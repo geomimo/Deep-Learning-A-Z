{
  "cells": [
    {
      "cell_type": "markdown",
      "metadata": {
        "colab_type": "text",
        "id": "xpAuMVCwfWs8"
      },
      "source": [
        "# Recurrent Neural Network"
      ]
    },
    {
      "cell_type": "markdown",
      "metadata": {
        "colab_type": "text",
        "id": "nxJfRe4bfYVA"
      },
      "source": [
        "## Part 1 - Data Preprocessing"
      ]
    },
    {
      "cell_type": "markdown",
      "metadata": {
        "colab_type": "text",
        "id": "ir9zwETrfbrp"
      },
      "source": [
        "### Importing the libraries"
      ]
    },
    {
      "cell_type": "code",
      "execution_count": 1,
      "metadata": {
        "colab": {},
        "colab_type": "code",
        "id": "ZT1f24vHffuf"
      },
      "outputs": [],
      "source": [
        "import numpy as np\n",
        "import matplotlib.pyplot as plt\n",
        "import pandas as pd"
      ]
    },
    {
      "cell_type": "markdown",
      "metadata": {
        "colab_type": "text",
        "id": "nQ47JAxrgmaL"
      },
      "source": [
        "### Importing the training set"
      ]
    },
    {
      "cell_type": "code",
      "execution_count": 2,
      "metadata": {
        "colab": {},
        "colab_type": "code",
        "id": "1xiv3pJOgqY3"
      },
      "outputs": [
        {
          "data": {
            "text/plain": [
              "array([[325.25],\n",
              "       [331.27],\n",
              "       [329.83],\n",
              "       ...,\n",
              "       [793.7 ],\n",
              "       [783.33],\n",
              "       [782.75]])"
            ]
          },
          "execution_count": 2,
          "metadata": {},
          "output_type": "execute_result"
        }
      ],
      "source": [
        "dataset_train = pd.read_csv(\"Google_Stock_Price_Train.csv\")\n",
        "training_set = dataset_train.iloc[:, 1:2].values\n",
        "training_set"
      ]
    },
    {
      "cell_type": "markdown",
      "metadata": {
        "colab_type": "text",
        "id": "HT8_2UJegtG5"
      },
      "source": [
        "### Feature Scaling"
      ]
    },
    {
      "cell_type": "code",
      "execution_count": 3,
      "metadata": {},
      "outputs": [],
      "source": [
        "from sklearn.preprocessing import MinMaxScaler\n",
        "sc = MinMaxScaler(feature_range=(0, 1))\n",
        "training_set_scaled = sc.fit_transform(training_set)"
      ]
    },
    {
      "cell_type": "markdown",
      "metadata": {
        "colab_type": "text",
        "id": "JyYgYocqhNUg"
      },
      "source": [
        "### Creating a data structure with 60 timesteps and 1 output"
      ]
    },
    {
      "cell_type": "code",
      "execution_count": 4,
      "metadata": {
        "colab": {},
        "colab_type": "code",
        "id": "iofU21B0i6ST"
      },
      "outputs": [],
      "source": [
        "X_train, y_train = [], []\n",
        "for i in range(60, len(training_set_scaled)):\n",
        "    X_train.append(training_set_scaled[i-60:i, 0])\n",
        "    y_train.append(training_set_scaled[i, 0])\n",
        "\n",
        "X_train, y_train = np.array(X_train), np.array(y_train)"
      ]
    },
    {
      "cell_type": "markdown",
      "metadata": {
        "colab_type": "text",
        "id": "D8yaN7Zvi95l"
      },
      "source": [
        "### Reshaping"
      ]
    },
    {
      "cell_type": "code",
      "execution_count": 5,
      "metadata": {
        "colab": {},
        "colab_type": "code",
        "id": "FOXqJHmNjBkz"
      },
      "outputs": [],
      "source": [
        "X_train = np.reshape(X_train, (X_train.shape[0], X_train.shape[1], 1))"
      ]
    },
    {
      "cell_type": "markdown",
      "metadata": {
        "colab_type": "text",
        "id": "ZRRSOJeVjEWV"
      },
      "source": [
        "## Part 2 - Building and Training the RNN"
      ]
    },
    {
      "cell_type": "markdown",
      "metadata": {
        "colab_type": "text",
        "id": "k4XV88JMjHXG"
      },
      "source": [
        "### Importing the Keras libraries and packages"
      ]
    },
    {
      "cell_type": "code",
      "execution_count": 6,
      "metadata": {
        "colab": {
          "base_uri": "https://localhost:8080/",
          "height": 34
        },
        "colab_type": "code",
        "id": "9JRnqsxEjKsD",
        "outputId": "b3e23e78-18aa-4396-c923-c877b8de60e4"
      },
      "outputs": [],
      "source": [
        "from tensorflow.keras.models import Sequential\n",
        "from tensorflow.keras.layers import Dense, LSTM"
      ]
    },
    {
      "cell_type": "markdown",
      "metadata": {
        "colab_type": "text",
        "id": "FEIE-1s9jNzC"
      },
      "source": [
        "### Initialising the RNN"
      ]
    },
    {
      "cell_type": "code",
      "execution_count": 17,
      "metadata": {
        "colab": {},
        "colab_type": "code",
        "id": "1338dJ0UjRKH"
      },
      "outputs": [],
      "source": [
        "rnn = Sequential()"
      ]
    },
    {
      "cell_type": "markdown",
      "metadata": {
        "colab_type": "text",
        "id": "62eg1OPGjT8z"
      },
      "source": [
        "### Adding the first LSTM layer and some Dropout regularisation"
      ]
    },
    {
      "cell_type": "code",
      "execution_count": 18,
      "metadata": {
        "colab": {},
        "colab_type": "code",
        "id": "2hIinyXUjbVU"
      },
      "outputs": [],
      "source": [
        "rnn.add(LSTM(units=30, return_sequences=True, dropout=0.2, input_shape=(X_train.shape[1],1)))"
      ]
    },
    {
      "cell_type": "markdown",
      "metadata": {
        "colab_type": "text",
        "id": "3XBIYLyOjlMx"
      },
      "source": [
        "### Adding a second LSTM layer and some Dropout regularisation"
      ]
    },
    {
      "cell_type": "code",
      "execution_count": 19,
      "metadata": {
        "colab": {},
        "colab_type": "code",
        "id": "UG7nrVaSjuZ2"
      },
      "outputs": [],
      "source": [
        "rnn.add(LSTM(units=20, return_sequences=True, dropout=0.1))"
      ]
    },
    {
      "cell_type": "markdown",
      "metadata": {
        "colab_type": "text",
        "id": "Ey3fHVnGj1cu"
      },
      "source": [
        "### Adding a third LSTM layer and some Dropout regularisation"
      ]
    },
    {
      "cell_type": "code",
      "execution_count": 20,
      "metadata": {
        "colab": {},
        "colab_type": "code",
        "id": "PuNi6PgFj7jO"
      },
      "outputs": [],
      "source": [
        "rnn.add(LSTM(units=20, return_sequences=True, dropout=0.2))"
      ]
    },
    {
      "cell_type": "markdown",
      "metadata": {
        "colab_type": "text",
        "id": "SYTrtfTmj933"
      },
      "source": [
        "### Adding a fourth LSTM layer and some Dropout regularisation"
      ]
    },
    {
      "cell_type": "code",
      "execution_count": 21,
      "metadata": {
        "colab": {},
        "colab_type": "code",
        "id": "Jp4Ty8fRkBYV"
      },
      "outputs": [],
      "source": [
        "rnn.add(LSTM(units=30, return_sequences=False, dropout=0.1))"
      ]
    },
    {
      "cell_type": "markdown",
      "metadata": {
        "colab_type": "text",
        "id": "9ABI6rOIkHhk"
      },
      "source": [
        "### Adding the output layer"
      ]
    },
    {
      "cell_type": "code",
      "execution_count": 22,
      "metadata": {
        "colab": {},
        "colab_type": "code",
        "id": "aM6R1z4WkME8"
      },
      "outputs": [],
      "source": [
        "rnn.add(Dense(units=1))"
      ]
    },
    {
      "cell_type": "markdown",
      "metadata": {
        "colab_type": "text",
        "id": "zLx4K7uUkPSh"
      },
      "source": [
        "### Compiling the RNN"
      ]
    },
    {
      "cell_type": "code",
      "execution_count": 23,
      "metadata": {
        "colab": {},
        "colab_type": "code",
        "id": "XTrhVN-tkbko"
      },
      "outputs": [],
      "source": [
        "rnn.compile(optimizer='adam', loss='mean_squared_error')"
      ]
    },
    {
      "cell_type": "markdown",
      "metadata": {
        "colab_type": "text",
        "id": "-mPhwKGkkebi"
      },
      "source": [
        "### Fitting the RNN to the Training set"
      ]
    },
    {
      "cell_type": "code",
      "execution_count": 24,
      "metadata": {
        "colab": {
          "base_uri": "https://localhost:8080/",
          "height": 1000
        },
        "colab_type": "code",
        "id": "I06Nkrz5kkb-",
        "outputId": "dc9d947a-4d5c-4dbc-ed45-31bf44b98dfb"
      },
      "outputs": [
        {
          "name": "stdout",
          "output_type": "stream",
          "text": [
            "Epoch 1/50\n",
            "38/38 [==============================] - 3s 79ms/step - loss: 0.0569\n",
            "Epoch 2/50\n",
            "38/38 [==============================] - 3s 84ms/step - loss: 0.0059\n",
            "Epoch 3/50\n",
            "38/38 [==============================] - 3s 84ms/step - loss: 0.0051\n",
            "Epoch 4/50\n",
            "38/38 [==============================] - 3s 79ms/step - loss: 0.0051\n",
            "Epoch 5/50\n",
            "38/38 [==============================] - 3s 72ms/step - loss: 0.0051\n",
            "Epoch 6/50\n",
            "38/38 [==============================] - 3s 73ms/step - loss: 0.0056\n",
            "Epoch 7/50\n",
            "38/38 [==============================] - 3s 73ms/step - loss: 0.0049\n",
            "Epoch 8/50\n",
            "38/38 [==============================] - 3s 77ms/step - loss: 0.0052\n",
            "Epoch 9/50\n",
            "38/38 [==============================] - 3s 74ms/step - loss: 0.0048\n",
            "Epoch 10/50\n",
            "38/38 [==============================] - 3s 74ms/step - loss: 0.0044\n",
            "Epoch 11/50\n",
            "38/38 [==============================] - 3s 76ms/step - loss: 0.0055\n",
            "Epoch 12/50\n",
            "38/38 [==============================] - 3s 75ms/step - loss: 0.0047\n",
            "Epoch 13/50\n",
            "38/38 [==============================] - 3s 81ms/step - loss: 0.0048\n",
            "Epoch 14/50\n",
            "38/38 [==============================] - 3s 75ms/step - loss: 0.0047\n",
            "Epoch 15/50\n",
            "38/38 [==============================] - 3s 75ms/step - loss: 0.0047\n",
            "Epoch 16/50\n",
            "38/38 [==============================] - 3s 75ms/step - loss: 0.0045\n",
            "Epoch 17/50\n",
            "38/38 [==============================] - 3s 75ms/step - loss: 0.0046\n",
            "Epoch 18/50\n",
            "38/38 [==============================] - 3s 75ms/step - loss: 0.0044\n",
            "Epoch 19/50\n",
            "38/38 [==============================] - 3s 75ms/step - loss: 0.0043\n",
            "Epoch 20/50\n",
            "38/38 [==============================] - 3s 75ms/step - loss: 0.0044\n",
            "Epoch 21/50\n",
            "38/38 [==============================] - 3s 81ms/step - loss: 0.0042\n",
            "Epoch 22/50\n",
            "38/38 [==============================] - 3s 75ms/step - loss: 0.0039\n",
            "Epoch 23/50\n",
            "38/38 [==============================] - 3s 75ms/step - loss: 0.0042\n",
            "Epoch 24/50\n",
            "38/38 [==============================] - 3s 75ms/step - loss: 0.0037\n",
            "Epoch 25/50\n",
            "38/38 [==============================] - 3s 75ms/step - loss: 0.0039\n",
            "Epoch 26/50\n",
            "38/38 [==============================] - 3s 75ms/step - loss: 0.0044\n",
            "Epoch 27/50\n",
            "38/38 [==============================] - 3s 75ms/step - loss: 0.0038\n",
            "Epoch 28/50\n",
            "38/38 [==============================] - 3s 75ms/step - loss: 0.0036\n",
            "Epoch 29/50\n",
            "38/38 [==============================] - 3s 75ms/step - loss: 0.0036\n",
            "Epoch 30/50\n",
            "38/38 [==============================] - 3s 81ms/step - loss: 0.0036\n",
            "Epoch 31/50\n",
            "38/38 [==============================] - 3s 81ms/step - loss: 0.0034\n",
            "Epoch 32/50\n",
            "38/38 [==============================] - 3s 75ms/step - loss: 0.0037\n",
            "Epoch 33/50\n",
            "38/38 [==============================] - 3s 75ms/step - loss: 0.0033\n",
            "Epoch 34/50\n",
            "38/38 [==============================] - 3s 75ms/step - loss: 0.0033\n",
            "Epoch 35/50\n",
            "38/38 [==============================] - 3s 76ms/step - loss: 0.0030\n",
            "Epoch 36/50\n",
            "38/38 [==============================] - 3s 76ms/step - loss: 0.0033\n",
            "Epoch 37/50\n",
            "38/38 [==============================] - 3s 74ms/step - loss: 0.0031\n",
            "Epoch 38/50\n",
            "38/38 [==============================] - 3s 76ms/step - loss: 0.0028\n",
            "Epoch 39/50\n",
            "38/38 [==============================] - 3s 75ms/step - loss: 0.0030\n",
            "Epoch 40/50\n",
            "38/38 [==============================] - 3s 75ms/step - loss: 0.0029\n",
            "Epoch 41/50\n",
            "38/38 [==============================] - 3s 74ms/step - loss: 0.0032\n",
            "Epoch 42/50\n",
            "38/38 [==============================] - 3s 75ms/step - loss: 0.0029\n",
            "Epoch 43/50\n",
            "38/38 [==============================] - 3s 75ms/step - loss: 0.0028\n",
            "Epoch 44/50\n",
            "38/38 [==============================] - 3s 75ms/step - loss: 0.0026\n",
            "Epoch 45/50\n",
            "38/38 [==============================] - 3s 80ms/step - loss: 0.0026\n",
            "Epoch 46/50\n",
            "38/38 [==============================] - 3s 75ms/step - loss: 0.0033\n",
            "Epoch 47/50\n",
            "38/38 [==============================] - 3s 76ms/step - loss: 0.0027\n",
            "Epoch 48/50\n",
            "38/38 [==============================] - 3s 76ms/step - loss: 0.0026\n",
            "Epoch 49/50\n",
            "38/38 [==============================] - 3s 78ms/step - loss: 0.0026\n",
            "Epoch 50/50\n",
            "38/38 [==============================] - 3s 78ms/step - loss: 0.0024\n"
          ]
        },
        {
          "data": {
            "text/plain": [
              "<tensorflow.python.keras.callbacks.History at 0x29eace9b4f0>"
            ]
          },
          "execution_count": 24,
          "metadata": {},
          "output_type": "execute_result"
        }
      ],
      "source": [
        "rnn.fit(X_train, y_train, epochs=50, batch_size=32)"
      ]
    },
    {
      "cell_type": "markdown",
      "metadata": {
        "colab_type": "text",
        "id": "4hRau_lIkrE8"
      },
      "source": [
        "## Part 3 - Making the predictions and visualising the results"
      ]
    },
    {
      "cell_type": "markdown",
      "metadata": {
        "colab_type": "text",
        "id": "SgJO6qEDksxD"
      },
      "source": [
        "### Getting the real stock price of 2017"
      ]
    },
    {
      "cell_type": "code",
      "execution_count": 25,
      "metadata": {
        "colab": {},
        "colab_type": "code",
        "id": "FmBT2zqukxTz"
      },
      "outputs": [],
      "source": [
        "dataset_test = pd.read_csv(\"Google_Stock_Price_Test.csv\")\n",
        "real_stock_price = dataset_test.iloc[:, 1:2].values"
      ]
    },
    {
      "cell_type": "markdown",
      "metadata": {
        "colab_type": "text",
        "id": "GrvrLblxkz42"
      },
      "source": [
        "### Getting the predicted stock price of 2017"
      ]
    },
    {
      "cell_type": "code",
      "execution_count": 29,
      "metadata": {
        "colab": {},
        "colab_type": "code",
        "id": "emikTvUpk3Ck"
      },
      "outputs": [],
      "source": [
        "dataset_total = pd.concat([dataset_train['Open'], dataset_test['Open']], axis=0)\n",
        "inputs = dataset_total[len(dataset_total) - len(dataset_test) - 60:].values\n",
        "inputs = inputs.reshape(-1,1)\n",
        "inputs = sc.transform(inputs)\n",
        "X_test = []\n",
        "for i in range(60, 80):\n",
        "    X_test.append(inputs[i-60:i, 0])\n",
        "X_test = np.array(X_test)\n",
        "X_test = np.reshape(X_test, (X_test.shape[0], X_test.shape[1], 1))\n",
        "\n",
        "\n",
        "predictions = rnn.predict(X_test)\n",
        "predictions = sc.inverse_transform(predictions)"
      ]
    },
    {
      "cell_type": "markdown",
      "metadata": {
        "colab_type": "text",
        "id": "iFTNs3YHk6FQ"
      },
      "source": [
        "### Visualising the results"
      ]
    },
    {
      "cell_type": "code",
      "execution_count": 30,
      "metadata": {
        "colab": {
          "base_uri": "https://localhost:8080/",
          "height": 295
        },
        "colab_type": "code",
        "id": "8OUI8U49k9tH",
        "outputId": "db0ed15e-071b-4bae-955e-0eda3df95238"
      },
      "outputs": [
        {
          "data": {
            "image/png": "[encoded data removed]",
            "text/plain": [
              "<Figure size 432x288 with 1 Axes>"
            ]
          },
          "metadata": {
            "needs_background": "light"
          },
          "output_type": "display_data"
        }
      ],
      "source": [
        "plt.plot(real_stock_price,color='red', label='real')\n",
        "plt.plot(predictions,color='blue', label='predictions')\n",
        "plt.show()\n"
      ]
    }
  ],
  "metadata": {
    "colab": {
      "collapsed_sections": [],
      "name": "recurrent_neural_network.ipynb",
      "provenance": []
    },
    "interpreter": {
      "hash": "90282470ac18a59c68e75f6afad091d67e52d8c7cb2ee1a70acdf1da668b6cf5"
    },
    "kernelspec": {
      "display_name": "Python 3.8.12 64-bit ('kaggle': conda)",
      "name": "python3"
    },
    "language_info": {
      "codemirror_mode": {
        "name": "ipython",
        "version": 3
      },
      "file_extension": ".py",
      "mimetype": "text/x-python",
      "name": "python",
      "nbconvert_exporter": "python",
      "pygments_lexer": "ipython3",
      "version": "3.8.12"
    }
  },
  "nbformat": 4,
  "nbformat_minor": 0
}

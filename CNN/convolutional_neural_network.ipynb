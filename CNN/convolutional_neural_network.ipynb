{
  "cells": [
    {
      "cell_type": "markdown",
      "metadata": {
        "colab_type": "text",
        "id": "3DR-eO17geWu"
      },
      "source": [
        "# Convolutional Neural Network"
      ]
    },
    {
      "cell_type": "markdown",
      "metadata": {
        "colab_type": "text",
        "id": "EMefrVPCg-60"
      },
      "source": [
        "### Importing the libraries"
      ]
    },
    {
      "cell_type": "code",
      "execution_count": 2,
      "metadata": {
        "colab": {},
        "colab_type": "code",
        "id": "sCV30xyVhFbE"
      },
      "outputs": [],
      "source": [
        "import tensorflow as tf\n",
        "from tensorflow.keras.preprocessing.image import ImageDataGenerator"
      ]
    },
    {
      "cell_type": "code",
      "execution_count": 3,
      "metadata": {
        "colab": {},
        "colab_type": "code",
        "id": "FIleuCAjoFD8"
      },
      "outputs": [
        {
          "data": {
            "text/plain": [
              "'2.3.0'"
            ]
          },
          "execution_count": 3,
          "metadata": {},
          "output_type": "execute_result"
        }
      ],
      "source": [
        "tf.__version__"
      ]
    },
    {
      "cell_type": "markdown",
      "metadata": {
        "colab_type": "text",
        "id": "oxQxCBWyoGPE"
      },
      "source": [
        "## Part 1 - Data Preprocessing"
      ]
    },
    {
      "cell_type": "markdown",
      "metadata": {
        "colab_type": "text",
        "id": "MvE-heJNo3GG"
      },
      "source": [
        "### Preprocessing the Training set"
      ]
    },
    {
      "cell_type": "code",
      "execution_count": 6,
      "metadata": {
        "colab": {},
        "colab_type": "code",
        "id": "0koUcJMJpEBD"
      },
      "outputs": [
        {
          "name": "stdout",
          "output_type": "stream",
          "text": [
            "Found 8000 images belonging to 2 classes.\n"
          ]
        }
      ],
      "source": [
        "train_datagen = ImageDataGenerator(rescale=1./255, shear_range=0.2, zoom_range=0.2, horizontal_flip=True)\n",
        "training_set = train_datagen.flow_from_directory(\"C:\\\\Users\\\\georg\\\\Downloads\\\\dataset\\\\training_set\", target_size=(64, 64), batch_size=32, class_mode='binary')"
      ]
    },
    {
      "cell_type": "markdown",
      "metadata": {
        "colab_type": "text",
        "id": "mrCMmGw9pHys"
      },
      "source": [
        "### Preprocessing the Test set"
      ]
    },
    {
      "cell_type": "code",
      "execution_count": 7,
      "metadata": {
        "colab": {},
        "colab_type": "code",
        "id": "SH4WzfOhpKc3"
      },
      "outputs": [
        {
          "name": "stdout",
          "output_type": "stream",
          "text": [
            "Found 2000 images belonging to 2 classes.\n"
          ]
        }
      ],
      "source": [
        "test_datagen = ImageDataGenerator(rescale=1./255)\n",
        "test_set = test_datagen.flow_from_directory(\"C:\\\\Users\\\\georg\\\\Downloads\\\\dataset\\\\test_set\", target_size=(64, 64), batch_size=32, class_mode='binary')"
      ]
    },
    {
      "cell_type": "markdown",
      "metadata": {
        "colab_type": "text",
        "id": "af8O4l90gk7B"
      },
      "source": [
        "## Part 2 - Building the CNN"
      ]
    },
    {
      "cell_type": "markdown",
      "metadata": {
        "colab_type": "text",
        "id": "ces1gXY2lmoX"
      },
      "source": [
        "### Initialising the CNN"
      ]
    },
    {
      "cell_type": "code",
      "execution_count": 9,
      "metadata": {
        "colab": {},
        "colab_type": "code",
        "id": "SAUt4UMPlhLS"
      },
      "outputs": [],
      "source": [
        "from tensorflow.keras.models import Sequential\n",
        "\n",
        "cnn = Sequential()"
      ]
    },
    {
      "cell_type": "markdown",
      "metadata": {
        "colab_type": "text",
        "id": "u5YJj_XMl5LF"
      },
      "source": [
        "### Step 1 - Convolution"
      ]
    },
    {
      "cell_type": "code",
      "execution_count": 10,
      "metadata": {
        "colab": {},
        "colab_type": "code",
        "id": "XPzPrMckl-hV"
      },
      "outputs": [],
      "source": [
        "from tensorflow.keras.layers import Conv2D\n",
        "\n",
        "cnn.add(Conv2D(filters=32, kernel_size=3, activation='relu', input_shape=(64, 64, 3)))"
      ]
    },
    {
      "cell_type": "markdown",
      "metadata": {
        "colab_type": "text",
        "id": "tf87FpvxmNOJ"
      },
      "source": [
        "### Step 2 - Pooling"
      ]
    },
    {
      "cell_type": "code",
      "execution_count": 11,
      "metadata": {
        "colab": {},
        "colab_type": "code",
        "id": "ncpqPl69mOac"
      },
      "outputs": [],
      "source": [
        "from tensorflow.keras.layers import MaxPool2D\n",
        "\n",
        "cnn.add(MaxPool2D(pool_size=2, strides=2))"
      ]
    },
    {
      "cell_type": "markdown",
      "metadata": {
        "colab_type": "text",
        "id": "xaTOgD8rm4mU"
      },
      "source": [
        "### Adding a second convolutional layer"
      ]
    },
    {
      "cell_type": "code",
      "execution_count": 12,
      "metadata": {
        "colab": {},
        "colab_type": "code",
        "id": "i_-FZjn_m8gk"
      },
      "outputs": [],
      "source": [
        "cnn.add(Conv2D(filters=32, kernel_size=3, activation='relu'))\n",
        "cnn.add(MaxPool2D(pool_size=2, strides=2))"
      ]
    },
    {
      "cell_type": "markdown",
      "metadata": {
        "colab_type": "text",
        "id": "tmiEuvTunKfk"
      },
      "source": [
        "### Step 3 - Flattening"
      ]
    },
    {
      "cell_type": "code",
      "execution_count": 13,
      "metadata": {
        "colab": {},
        "colab_type": "code",
        "id": "6AZeOGCvnNZn"
      },
      "outputs": [],
      "source": [
        "from tensorflow.keras.layers import Flatten\n",
        "\n",
        "cnn.add(Flatten())"
      ]
    },
    {
      "cell_type": "markdown",
      "metadata": {
        "colab_type": "text",
        "id": "dAoSECOm203v"
      },
      "source": [
        "### Step 4 - Full Connection"
      ]
    },
    {
      "cell_type": "code",
      "execution_count": 14,
      "metadata": {
        "colab": {},
        "colab_type": "code",
        "id": "8GtmUlLd26Nq"
      },
      "outputs": [],
      "source": [
        "from tensorflow.keras.layers import Dense\n",
        "\n",
        "cnn.add(Dense(units=128, activation='relu'))"
      ]
    },
    {
      "cell_type": "markdown",
      "metadata": {
        "colab_type": "text",
        "id": "yTldFvbX28Na"
      },
      "source": [
        "### Step 5 - Output Layer"
      ]
    },
    {
      "cell_type": "code",
      "execution_count": 15,
      "metadata": {
        "colab": {},
        "colab_type": "code",
        "id": "1p_Zj1Mc3Ko_"
      },
      "outputs": [],
      "source": [
        "cnn.add(Dense(units=1, activation='sigmoid'))"
      ]
    },
    {
      "cell_type": "markdown",
      "metadata": {
        "colab_type": "text",
        "id": "D6XkI90snSDl"
      },
      "source": [
        "## Part 3 - Training the CNN"
      ]
    },
    {
      "cell_type": "markdown",
      "metadata": {
        "colab_type": "text",
        "id": "vfrFQACEnc6i"
      },
      "source": [
        "### Compiling the CNN"
      ]
    },
    {
      "cell_type": "code",
      "execution_count": 16,
      "metadata": {
        "colab": {},
        "colab_type": "code",
        "id": "NALksrNQpUlJ"
      },
      "outputs": [],
      "source": [
        "cnn.compile(optimizer='adam', loss='binary_crossentropy', metrics=['accuracy'])"
      ]
    },
    {
      "cell_type": "markdown",
      "metadata": {
        "colab_type": "text",
        "id": "ehS-v3MIpX2h"
      },
      "source": [
        "### Training the CNN on the Training set and evaluating it on the Test set"
      ]
    },
    {
      "cell_type": "code",
      "execution_count": 18,
      "metadata": {
        "colab": {},
        "colab_type": "code",
        "id": "XUj1W4PJptta"
      },
      "outputs": [
        {
          "name": "stdout",
          "output_type": "stream",
          "text": [
            "Epoch 1/25\n",
            "250/250 [==============================] - 322s 1s/step - loss: 0.6560 - accuracy: 0.6006 - val_loss: 0.6131 - val_accuracy: 0.6805\n",
            "Epoch 2/25\n",
            "250/250 [==============================] - 130s 520ms/step - loss: 0.6031 - accuracy: 0.6773 - val_loss: 0.5726 - val_accuracy: 0.7155\n",
            "Epoch 3/25\n",
            "250/250 [==============================] - 127s 506ms/step - loss: 0.5576 - accuracy: 0.7081 - val_loss: 0.5591 - val_accuracy: 0.7315\n",
            "Epoch 4/25\n",
            "250/250 [==============================] - 127s 509ms/step - loss: 0.5450 - accuracy: 0.7194 - val_loss: 0.5332 - val_accuracy: 0.7385\n",
            "Epoch 5/25\n",
            "250/250 [==============================] - 126s 504ms/step - loss: 0.5108 - accuracy: 0.7461 - val_loss: 0.5258 - val_accuracy: 0.7420\n",
            "Epoch 6/25\n",
            "250/250 [==============================] - 121s 485ms/step - loss: 0.4926 - accuracy: 0.7556 - val_loss: 0.5120 - val_accuracy: 0.7540\n",
            "Epoch 7/25\n",
            "250/250 [==============================] - 124s 497ms/step - loss: 0.4928 - accuracy: 0.7555 - val_loss: 0.5324 - val_accuracy: 0.7395\n",
            "Epoch 8/25\n",
            "250/250 [==============================] - 128s 514ms/step - loss: 0.4732 - accuracy: 0.7689 - val_loss: 0.5196 - val_accuracy: 0.7440\n",
            "Epoch 9/25\n",
            "250/250 [==============================] - 114s 455ms/step - loss: 0.4545 - accuracy: 0.7839 - val_loss: 0.4653 - val_accuracy: 0.7875\n",
            "Epoch 10/25\n",
            "250/250 [==============================] - 117s 470ms/step - loss: 0.4450 - accuracy: 0.7871 - val_loss: 0.4741 - val_accuracy: 0.7685\n",
            "Epoch 11/25\n",
            "250/250 [==============================] - 129s 515ms/step - loss: 0.4377 - accuracy: 0.7934 - val_loss: 0.4472 - val_accuracy: 0.7970\n",
            "Epoch 12/25\n",
            "250/250 [==============================] - 125s 501ms/step - loss: 0.4281 - accuracy: 0.8004 - val_loss: 0.4555 - val_accuracy: 0.7895\n",
            "Epoch 13/25\n",
            "250/250 [==============================] - 133s 534ms/step - loss: 0.4163 - accuracy: 0.8014 - val_loss: 0.5314 - val_accuracy: 0.7600\n",
            "Epoch 14/25\n",
            "250/250 [==============================] - 137s 546ms/step - loss: 0.3999 - accuracy: 0.8102 - val_loss: 0.4571 - val_accuracy: 0.7970\n",
            "Epoch 15/25\n",
            "250/250 [==============================] - 130s 520ms/step - loss: 0.3944 - accuracy: 0.8185 - val_loss: 0.4588 - val_accuracy: 0.7900\n",
            "Epoch 16/25\n",
            "250/250 [==============================] - 129s 517ms/step - loss: 0.3884 - accuracy: 0.8215 - val_loss: 0.4371 - val_accuracy: 0.8090\n",
            "Epoch 17/25\n",
            "250/250 [==============================] - 135s 542ms/step - loss: 0.3741 - accuracy: 0.8338 - val_loss: 0.4822 - val_accuracy: 0.7945\n",
            "Epoch 18/25\n",
            "250/250 [==============================] - 134s 535ms/step - loss: 0.3705 - accuracy: 0.8321 - val_loss: 0.4459 - val_accuracy: 0.8075\n",
            "Epoch 19/25\n",
            "250/250 [==============================] - 99s 396ms/step - loss: 0.3604 - accuracy: 0.8353 - val_loss: 0.4993 - val_accuracy: 0.7810\n",
            "Epoch 20/25\n",
            "250/250 [==============================] - 51s 203ms/step - loss: 0.3471 - accuracy: 0.8444 - val_loss: 0.4490 - val_accuracy: 0.8070\n",
            "Epoch 21/25\n",
            "250/250 [==============================] - 51s 202ms/step - loss: 0.3470 - accuracy: 0.8465 - val_loss: 0.4686 - val_accuracy: 0.8100\n",
            "Epoch 22/25\n",
            "250/250 [==============================] - 51s 203ms/step - loss: 0.3302 - accuracy: 0.8572 - val_loss: 0.4459 - val_accuracy: 0.8105\n",
            "Epoch 23/25\n",
            "250/250 [==============================] - 56s 224ms/step - loss: 0.3339 - accuracy: 0.8525 - val_loss: 0.4464 - val_accuracy: 0.8105\n",
            "Epoch 24/25\n",
            "250/250 [==============================] - 164s 658ms/step - loss: 0.3128 - accuracy: 0.8631 - val_loss: 0.4625 - val_accuracy: 0.8025\n",
            "Epoch 25/25\n",
            "250/250 [==============================] - 86s 343ms/step - loss: 0.2988 - accuracy: 0.8735 - val_loss: 0.4686 - val_accuracy: 0.8005\n"
          ]
        },
        {
          "data": {
            "text/plain": [
              "<tensorflow.python.keras.callbacks.History at 0x1a9cb04b1c0>"
            ]
          },
          "execution_count": 18,
          "metadata": {},
          "output_type": "execute_result"
        }
      ],
      "source": [
        "cnn.fit(x=training_set, validation_data=test_set, epochs=25)"
      ]
    },
    {
      "cell_type": "markdown",
      "metadata": {
        "colab_type": "text",
        "id": "U3PZasO0006Z"
      },
      "source": [
        "## Part 4 - Making a single prediction"
      ]
    },
    {
      "cell_type": "code",
      "execution_count": 21,
      "metadata": {
        "colab": {},
        "colab_type": "code",
        "id": "gsSiWEJY1BPB"
      },
      "outputs": [],
      "source": [
        "import numpy as np\n",
        "from tensorflow.keras.preprocessing import image\n",
        "\n",
        "test_image = image.load_img(\"C:\\\\Users\\\\georg\\\\Downloads\\\\dataset\\\\single_prediction/cat_or_dog_1.jpg\", target_size=(64,64))"
      ]
    },
    {
      "cell_type": "code",
      "execution_count": 24,
      "metadata": {
        "colab": {},
        "colab_type": "code",
        "id": "ED9KB3I54c1i"
      },
      "outputs": [],
      "source": [
        "test_image = image.img_to_array(test_image)"
      ]
    },
    {
      "cell_type": "code",
      "execution_count": 30,
      "metadata": {},
      "outputs": [],
      "source": [
        "test_image = np.expand_dims(test_image, axis=0)"
      ]
    },
    {
      "cell_type": "code",
      "execution_count": 34,
      "metadata": {},
      "outputs": [],
      "source": [
        "result = cnn.predict(test_image)"
      ]
    },
    {
      "cell_type": "code",
      "execution_count": 35,
      "metadata": {},
      "outputs": [
        {
          "data": {
            "text/plain": [
              "array([[1.]], dtype=float32)"
            ]
          },
          "execution_count": 35,
          "metadata": {},
          "output_type": "execute_result"
        }
      ],
      "source": [
        "result"
      ]
    },
    {
      "cell_type": "code",
      "execution_count": 36,
      "metadata": {},
      "outputs": [
        {
          "data": {
            "text/plain": [
              "{'cats': 0, 'dogs': 1}"
            ]
          },
          "execution_count": 36,
          "metadata": {},
          "output_type": "execute_result"
        }
      ],
      "source": [
        "training_set.class_indices"
      ]
    },
    {
      "cell_type": "code",
      "execution_count": null,
      "metadata": {},
      "outputs": [],
      "source": []
    }
  ],
  "metadata": {
    "colab": {
      "collapsed_sections": [],
      "name": "convolutional_neural_network.ipynb",
      "provenance": [],
      "toc_visible": true
    },
    "interpreter": {
      "hash": "90282470ac18a59c68e75f6afad091d67e52d8c7cb2ee1a70acdf1da668b6cf5"
    },
    "kernelspec": {
      "display_name": "Python 3.8.12 64-bit ('kaggle': conda)",
      "name": "python3"
    },
    "language_info": {
      "codemirror_mode": {
        "name": "ipython",
        "version": 3
      },
      "file_extension": ".py",
      "mimetype": "text/x-python",
      "name": "python",
      "nbconvert_exporter": "python",
      "pygments_lexer": "ipython3",
      "version": "3.8.12"
    }
  },
  "nbformat": 4,
  "nbformat_minor": 0
}
